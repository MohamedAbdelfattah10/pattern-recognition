{
 "cells": [
  {
   "cell_type": "code",
   "execution_count": 4,
   "id": "85cd14e9",
   "metadata": {},
   "outputs": [
    {
     "name": "stdout",
     "output_type": "stream",
     "text": [
      "Speak now\n",
      "Speaker: speech recognition\n",
      "Speak now\n",
      "Speaker: stop\n"
     ]
    }
   ],
   "source": [
    "import speech_recognition as sr \n",
    "r = sr.Recognizer()\n",
    "while True:\n",
    "    with sr.Microphone() as mic:\n",
    "        # clear background noise\n",
    "        r.adjust_for_ambient_noise(mic, duration = 5)\n",
    "        print(\"Speak now\")\n",
    "        # capture the audio\n",
    "        audio = r.listen(mic)\n",
    "        try:\n",
    "            text = r.recognize_google(audio) \n",
    "            print(\"Speaker:\", text)\n",
    "            if text == \"stop\":\n",
    "                break\n",
    "            elif text == \"stop\":\n",
    "                break\n",
    "        except:\n",
    "            print('Please say again!') "
   ]
  },
  {
   "cell_type": "code",
   "execution_count": 3,
   "id": "6685ec45",
   "metadata": {},
   "outputs": [
    {
     "name": "stdout",
     "output_type": "stream",
     "text": [
      "Speak now\n",
      "Speaker: السلام عليكم ورحمه الله وبركاته\n",
      "Speak now\n",
      "Speaker: انهاء\n"
     ]
    }
   ],
   "source": [
    "r = sr.Recognizer()\n",
    "while True:\n",
    "    with sr.Microphone() as mic:\n",
    "        # clear background noise\n",
    "        r.adjust_for_ambient_noise(mic, duration = 5)\n",
    "        print(\"Speak now\")\n",
    "        # capture the audio\n",
    "        audio = r.listen(mic)\n",
    "        try:\n",
    "            text = r.recognize_google(audio,language = 'ar-EG') \n",
    "            print(\"Speaker:\", text)\n",
    "            if text == \"stop\":\n",
    "                break\n",
    "            elif text == \"إنهاء\" or text == \"انهاء\":\n",
    "                break\n",
    "        except:\n",
    "            print('Please say again!') "
   ]
  },
  {
   "cell_type": "code",
   "execution_count": 5,
   "id": "b5a950bd",
   "metadata": {},
   "outputs": [
    {
     "name": "stdout",
     "output_type": "stream",
     "text": [
      "Please say something \n",
      "Reconizing Now ... \n",
      "You have said : YouTube\n"
     ]
    }
   ],
   "source": [
    "import speech_recognition as sr \n",
    "import webbrowser as web\n",
    "path = \"C:/Program Files/Google/Chrome/Application/chrome.exe %s\"\n",
    "\n",
    "r = sr. Recognizer()\n",
    "\n",
    "with sr.Microphone() as source:\n",
    "    r.adjust_for_ambient_noise(source)\n",
    "    print(\"Please say something \")\n",
    "    audio = r.listen(source)\n",
    "    print(\"Reconizing Now ... \")\n",
    "    \n",
    "    try:\n",
    "        dest = r.recognize_google(audio)\n",
    "        print(\"You have said : \" + dest)\n",
    "        web.get(path).open(dest)\n",
    "        \n",
    "    except Exception as e:\n",
    "        print(\"Error : \" + str(e)) "
   ]
  },
  {
   "cell_type": "code",
   "execution_count": 4,
   "id": "51394842",
   "metadata": {},
   "outputs": [
    {
     "name": "stdout",
     "output_type": "stream",
     "text": [
      "Speak now\n",
      "you said: Facebook\n",
      "https://www.facebook.com/\n"
     ]
    }
   ],
   "source": [
    "import webbrowser as web\n",
    "from googlesearch import search\n",
    "r = sr.Recognizer()\n",
    "\n",
    "with sr.Microphone() as mic:\n",
    "    # clear background noise\n",
    "    r.adjust_for_ambient_noise(mic, duration = 5)\n",
    "    print(\"Speak now\")\n",
    "    # capture the audio\n",
    "    audio = r.listen(mic)\n",
    "    try:\n",
    "        text = r.recognize_google(audio) \n",
    "        print(\"you said:\", text)\n",
    "    except:\n",
    "        print('Please say again!') \n",
    "\n",
    "# to search\n",
    "for j in search(text , tld=\"co.in\", num=1, stop=1, pause=2): \n",
    "    print(j)\n",
    "    z=web.open(j) "
   ]
  }
 ],
 "metadata": {
  "kernelspec": {
   "display_name": "Python 3 (ipykernel)",
   "language": "python",
   "name": "python3"
  },
  "language_info": {
   "codemirror_mode": {
    "name": "ipython",
    "version": 3
   },
   "file_extension": ".py",
   "mimetype": "text/x-python",
   "name": "python",
   "nbconvert_exporter": "python",
   "pygments_lexer": "ipython3",
   "version": "3.9.7"
  }
 },
 "nbformat": 4,
 "nbformat_minor": 5
}
